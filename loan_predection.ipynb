{
  "cells": [
    {
      "cell_type": "code",
      "execution_count": 57,
      "metadata": {
        "id": "zA7jPtkajl64"
      },
      "outputs": [],
      "source": [
        "import pandas as pd"
      ]
    },
    {
      "cell_type": "code",
      "execution_count": 58,
      "metadata": {
        "id": "DPOOMPAoj4ae"
      },
      "outputs": [],
      "source": [
        "df=pd.read_csv('/Users/tharunkumarl/Data science/Loan Approval Prediction/loan_approval_dataset.csv')"
      ]
    },
    {
      "cell_type": "code",
      "execution_count": 59,
      "metadata": {},
      "outputs": [
        {
          "data": {
            "text/html": [
              "<div>\n",
              "<style scoped>\n",
              "    .dataframe tbody tr th:only-of-type {\n",
              "        vertical-align: middle;\n",
              "    }\n",
              "\n",
              "    .dataframe tbody tr th {\n",
              "        vertical-align: top;\n",
              "    }\n",
              "\n",
              "    .dataframe thead th {\n",
              "        text-align: right;\n",
              "    }\n",
              "</style>\n",
              "<table border=\"1\" class=\"dataframe\">\n",
              "  <thead>\n",
              "    <tr style=\"text-align: right;\">\n",
              "      <th></th>\n",
              "      <th>loan_id</th>\n",
              "      <th>no_of_dependents</th>\n",
              "      <th>education</th>\n",
              "      <th>self_employed</th>\n",
              "      <th>income_annum</th>\n",
              "      <th>loan_amount</th>\n",
              "      <th>loan_term</th>\n",
              "      <th>cibil_score</th>\n",
              "      <th>residential_assets_value</th>\n",
              "      <th>commercial_assets_value</th>\n",
              "      <th>luxury_assets_value</th>\n",
              "      <th>bank_asset_value</th>\n",
              "      <th>loan_status</th>\n",
              "    </tr>\n",
              "  </thead>\n",
              "  <tbody>\n",
              "    <tr>\n",
              "      <th>0</th>\n",
              "      <td>1</td>\n",
              "      <td>2</td>\n",
              "      <td>Graduate</td>\n",
              "      <td>No</td>\n",
              "      <td>9600000</td>\n",
              "      <td>29900000</td>\n",
              "      <td>12</td>\n",
              "      <td>778</td>\n",
              "      <td>2400000</td>\n",
              "      <td>17600000</td>\n",
              "      <td>22700000</td>\n",
              "      <td>8000000</td>\n",
              "      <td>Approved</td>\n",
              "    </tr>\n",
              "    <tr>\n",
              "      <th>1</th>\n",
              "      <td>2</td>\n",
              "      <td>0</td>\n",
              "      <td>Not Graduate</td>\n",
              "      <td>Yes</td>\n",
              "      <td>4100000</td>\n",
              "      <td>12200000</td>\n",
              "      <td>8</td>\n",
              "      <td>417</td>\n",
              "      <td>2700000</td>\n",
              "      <td>2200000</td>\n",
              "      <td>8800000</td>\n",
              "      <td>3300000</td>\n",
              "      <td>Rejected</td>\n",
              "    </tr>\n",
              "    <tr>\n",
              "      <th>2</th>\n",
              "      <td>3</td>\n",
              "      <td>3</td>\n",
              "      <td>Graduate</td>\n",
              "      <td>No</td>\n",
              "      <td>9100000</td>\n",
              "      <td>29700000</td>\n",
              "      <td>20</td>\n",
              "      <td>506</td>\n",
              "      <td>7100000</td>\n",
              "      <td>4500000</td>\n",
              "      <td>33300000</td>\n",
              "      <td>12800000</td>\n",
              "      <td>Rejected</td>\n",
              "    </tr>\n",
              "    <tr>\n",
              "      <th>3</th>\n",
              "      <td>4</td>\n",
              "      <td>3</td>\n",
              "      <td>Graduate</td>\n",
              "      <td>No</td>\n",
              "      <td>8200000</td>\n",
              "      <td>30700000</td>\n",
              "      <td>8</td>\n",
              "      <td>467</td>\n",
              "      <td>18200000</td>\n",
              "      <td>3300000</td>\n",
              "      <td>23300000</td>\n",
              "      <td>7900000</td>\n",
              "      <td>Rejected</td>\n",
              "    </tr>\n",
              "    <tr>\n",
              "      <th>4</th>\n",
              "      <td>5</td>\n",
              "      <td>5</td>\n",
              "      <td>Not Graduate</td>\n",
              "      <td>Yes</td>\n",
              "      <td>9800000</td>\n",
              "      <td>24200000</td>\n",
              "      <td>20</td>\n",
              "      <td>382</td>\n",
              "      <td>12400000</td>\n",
              "      <td>8200000</td>\n",
              "      <td>29400000</td>\n",
              "      <td>5000000</td>\n",
              "      <td>Rejected</td>\n",
              "    </tr>\n",
              "  </tbody>\n",
              "</table>\n",
              "</div>"
            ],
            "text/plain": [
              "   loan_id   no_of_dependents      education  self_employed   income_annum  \\\n",
              "0        1                  2       Graduate             No        9600000   \n",
              "1        2                  0   Not Graduate            Yes        4100000   \n",
              "2        3                  3       Graduate             No        9100000   \n",
              "3        4                  3       Graduate             No        8200000   \n",
              "4        5                  5   Not Graduate            Yes        9800000   \n",
              "\n",
              "    loan_amount   loan_term   cibil_score   residential_assets_value  \\\n",
              "0      29900000          12           778                    2400000   \n",
              "1      12200000           8           417                    2700000   \n",
              "2      29700000          20           506                    7100000   \n",
              "3      30700000           8           467                   18200000   \n",
              "4      24200000          20           382                   12400000   \n",
              "\n",
              "    commercial_assets_value   luxury_assets_value   bank_asset_value  \\\n",
              "0                  17600000              22700000            8000000   \n",
              "1                   2200000               8800000            3300000   \n",
              "2                   4500000              33300000           12800000   \n",
              "3                   3300000              23300000            7900000   \n",
              "4                   8200000              29400000            5000000   \n",
              "\n",
              "   loan_status  \n",
              "0     Approved  \n",
              "1     Rejected  \n",
              "2     Rejected  \n",
              "3     Rejected  \n",
              "4     Rejected  "
            ]
          },
          "execution_count": 59,
          "metadata": {},
          "output_type": "execute_result"
        }
      ],
      "source": [
        "df.head()"
      ]
    },
    {
      "cell_type": "code",
      "execution_count": 60,
      "metadata": {
        "colab": {
          "base_uri": "https://localhost:8080/"
        },
        "id": "Fx06pkklkOcO",
        "outputId": "5a98cfd5-9d84-4faf-e450-15b087eba6e5"
      },
      "outputs": [
        {
          "data": {
            "text/plain": [
              "(4269, 13)"
            ]
          },
          "execution_count": 60,
          "metadata": {},
          "output_type": "execute_result"
        }
      ],
      "source": [
        "df.shape"
      ]
    },
    {
      "cell_type": "code",
      "execution_count": 61,
      "metadata": {
        "colab": {
          "base_uri": "https://localhost:8080/"
        },
        "id": "VxV8_TpIkRM-",
        "outputId": "53f96a97-feb3-411e-f6d6-ac185d8e6e64"
      },
      "outputs": [
        {
          "data": {
            "text/plain": [
              "Index(['loan_id', ' no_of_dependents', ' education', ' self_employed',\n",
              "       ' income_annum', ' loan_amount', ' loan_term', ' cibil_score',\n",
              "       ' residential_assets_value', ' commercial_assets_value',\n",
              "       ' luxury_assets_value', ' bank_asset_value', ' loan_status'],\n",
              "      dtype='object')"
            ]
          },
          "execution_count": 61,
          "metadata": {},
          "output_type": "execute_result"
        }
      ],
      "source": [
        "df.columns"
      ]
    },
    {
      "cell_type": "code",
      "execution_count": 62,
      "metadata": {
        "id": "hdveeZrlkVhW"
      },
      "outputs": [],
      "source": [
        "df.drop(columns=['loan_id'],inplace=True)"
      ]
    },
    {
      "cell_type": "code",
      "execution_count": 63,
      "metadata": {
        "colab": {
          "base_uri": "https://localhost:8080/"
        },
        "id": "78FVlGObkj_m",
        "outputId": "3e077f03-3965-48d6-fb18-b1b2235409f3"
      },
      "outputs": [
        {
          "data": {
            "text/plain": [
              "Index([' no_of_dependents', ' education', ' self_employed', ' income_annum',\n",
              "       ' loan_amount', ' loan_term', ' cibil_score',\n",
              "       ' residential_assets_value', ' commercial_assets_value',\n",
              "       ' luxury_assets_value', ' bank_asset_value', ' loan_status'],\n",
              "      dtype='object')"
            ]
          },
          "execution_count": 63,
          "metadata": {},
          "output_type": "execute_result"
        }
      ],
      "source": [
        "df.columns"
      ]
    },
    {
      "cell_type": "code",
      "execution_count": 64,
      "metadata": {
        "id": "6JgGB2OAkotF"
      },
      "outputs": [],
      "source": [
        "df.columns=df.columns.str.strip()"
      ]
    },
    {
      "cell_type": "code",
      "execution_count": 65,
      "metadata": {
        "colab": {
          "base_uri": "https://localhost:8080/"
        },
        "id": "b3KSZGXQkyhm",
        "outputId": "0e89536e-1b61-48d2-d803-5ab0c1f20020"
      },
      "outputs": [
        {
          "data": {
            "text/plain": [
              "Index(['no_of_dependents', 'education', 'self_employed', 'income_annum',\n",
              "       'loan_amount', 'loan_term', 'cibil_score', 'residential_assets_value',\n",
              "       'commercial_assets_value', 'luxury_assets_value', 'bank_asset_value',\n",
              "       'loan_status'],\n",
              "      dtype='object')"
            ]
          },
          "execution_count": 65,
          "metadata": {},
          "output_type": "execute_result"
        }
      ],
      "source": [
        "df.columns"
      ]
    },
    {
      "cell_type": "code",
      "execution_count": 66,
      "metadata": {
        "colab": {
          "base_uri": "https://localhost:8080/",
          "height": 261
        },
        "id": "VwG9aTu0k072",
        "outputId": "8b7c8c34-dd3f-41a8-a8cb-895c42ba131d"
      },
      "outputs": [
        {
          "data": {
            "text/html": [
              "<div>\n",
              "<style scoped>\n",
              "    .dataframe tbody tr th:only-of-type {\n",
              "        vertical-align: middle;\n",
              "    }\n",
              "\n",
              "    .dataframe tbody tr th {\n",
              "        vertical-align: top;\n",
              "    }\n",
              "\n",
              "    .dataframe thead th {\n",
              "        text-align: right;\n",
              "    }\n",
              "</style>\n",
              "<table border=\"1\" class=\"dataframe\">\n",
              "  <thead>\n",
              "    <tr style=\"text-align: right;\">\n",
              "      <th></th>\n",
              "      <th>no_of_dependents</th>\n",
              "      <th>education</th>\n",
              "      <th>self_employed</th>\n",
              "      <th>income_annum</th>\n",
              "      <th>loan_amount</th>\n",
              "      <th>loan_term</th>\n",
              "      <th>cibil_score</th>\n",
              "      <th>residential_assets_value</th>\n",
              "      <th>commercial_assets_value</th>\n",
              "      <th>luxury_assets_value</th>\n",
              "      <th>bank_asset_value</th>\n",
              "      <th>loan_status</th>\n",
              "    </tr>\n",
              "  </thead>\n",
              "  <tbody>\n",
              "    <tr>\n",
              "      <th>0</th>\n",
              "      <td>2</td>\n",
              "      <td>Graduate</td>\n",
              "      <td>No</td>\n",
              "      <td>9600000</td>\n",
              "      <td>29900000</td>\n",
              "      <td>12</td>\n",
              "      <td>778</td>\n",
              "      <td>2400000</td>\n",
              "      <td>17600000</td>\n",
              "      <td>22700000</td>\n",
              "      <td>8000000</td>\n",
              "      <td>Approved</td>\n",
              "    </tr>\n",
              "    <tr>\n",
              "      <th>1</th>\n",
              "      <td>0</td>\n",
              "      <td>Not Graduate</td>\n",
              "      <td>Yes</td>\n",
              "      <td>4100000</td>\n",
              "      <td>12200000</td>\n",
              "      <td>8</td>\n",
              "      <td>417</td>\n",
              "      <td>2700000</td>\n",
              "      <td>2200000</td>\n",
              "      <td>8800000</td>\n",
              "      <td>3300000</td>\n",
              "      <td>Rejected</td>\n",
              "    </tr>\n",
              "    <tr>\n",
              "      <th>2</th>\n",
              "      <td>3</td>\n",
              "      <td>Graduate</td>\n",
              "      <td>No</td>\n",
              "      <td>9100000</td>\n",
              "      <td>29700000</td>\n",
              "      <td>20</td>\n",
              "      <td>506</td>\n",
              "      <td>7100000</td>\n",
              "      <td>4500000</td>\n",
              "      <td>33300000</td>\n",
              "      <td>12800000</td>\n",
              "      <td>Rejected</td>\n",
              "    </tr>\n",
              "    <tr>\n",
              "      <th>3</th>\n",
              "      <td>3</td>\n",
              "      <td>Graduate</td>\n",
              "      <td>No</td>\n",
              "      <td>8200000</td>\n",
              "      <td>30700000</td>\n",
              "      <td>8</td>\n",
              "      <td>467</td>\n",
              "      <td>18200000</td>\n",
              "      <td>3300000</td>\n",
              "      <td>23300000</td>\n",
              "      <td>7900000</td>\n",
              "      <td>Rejected</td>\n",
              "    </tr>\n",
              "    <tr>\n",
              "      <th>4</th>\n",
              "      <td>5</td>\n",
              "      <td>Not Graduate</td>\n",
              "      <td>Yes</td>\n",
              "      <td>9800000</td>\n",
              "      <td>24200000</td>\n",
              "      <td>20</td>\n",
              "      <td>382</td>\n",
              "      <td>12400000</td>\n",
              "      <td>8200000</td>\n",
              "      <td>29400000</td>\n",
              "      <td>5000000</td>\n",
              "      <td>Rejected</td>\n",
              "    </tr>\n",
              "    <tr>\n",
              "      <th>5</th>\n",
              "      <td>0</td>\n",
              "      <td>Graduate</td>\n",
              "      <td>Yes</td>\n",
              "      <td>4800000</td>\n",
              "      <td>13500000</td>\n",
              "      <td>10</td>\n",
              "      <td>319</td>\n",
              "      <td>6800000</td>\n",
              "      <td>8300000</td>\n",
              "      <td>13700000</td>\n",
              "      <td>5100000</td>\n",
              "      <td>Rejected</td>\n",
              "    </tr>\n",
              "    <tr>\n",
              "      <th>6</th>\n",
              "      <td>5</td>\n",
              "      <td>Graduate</td>\n",
              "      <td>No</td>\n",
              "      <td>8700000</td>\n",
              "      <td>33000000</td>\n",
              "      <td>4</td>\n",
              "      <td>678</td>\n",
              "      <td>22500000</td>\n",
              "      <td>14800000</td>\n",
              "      <td>29200000</td>\n",
              "      <td>4300000</td>\n",
              "      <td>Approved</td>\n",
              "    </tr>\n",
              "    <tr>\n",
              "      <th>7</th>\n",
              "      <td>2</td>\n",
              "      <td>Graduate</td>\n",
              "      <td>Yes</td>\n",
              "      <td>5700000</td>\n",
              "      <td>15000000</td>\n",
              "      <td>20</td>\n",
              "      <td>382</td>\n",
              "      <td>13200000</td>\n",
              "      <td>5700000</td>\n",
              "      <td>11800000</td>\n",
              "      <td>6000000</td>\n",
              "      <td>Rejected</td>\n",
              "    </tr>\n",
              "    <tr>\n",
              "      <th>8</th>\n",
              "      <td>0</td>\n",
              "      <td>Graduate</td>\n",
              "      <td>Yes</td>\n",
              "      <td>800000</td>\n",
              "      <td>2200000</td>\n",
              "      <td>20</td>\n",
              "      <td>782</td>\n",
              "      <td>1300000</td>\n",
              "      <td>800000</td>\n",
              "      <td>2800000</td>\n",
              "      <td>600000</td>\n",
              "      <td>Approved</td>\n",
              "    </tr>\n",
              "    <tr>\n",
              "      <th>9</th>\n",
              "      <td>5</td>\n",
              "      <td>Not Graduate</td>\n",
              "      <td>No</td>\n",
              "      <td>1100000</td>\n",
              "      <td>4300000</td>\n",
              "      <td>10</td>\n",
              "      <td>388</td>\n",
              "      <td>3200000</td>\n",
              "      <td>1400000</td>\n",
              "      <td>3300000</td>\n",
              "      <td>1600000</td>\n",
              "      <td>Rejected</td>\n",
              "    </tr>\n",
              "  </tbody>\n",
              "</table>\n",
              "</div>"
            ],
            "text/plain": [
              "   no_of_dependents      education self_employed  income_annum  loan_amount  \\\n",
              "0                 2       Graduate            No       9600000     29900000   \n",
              "1                 0   Not Graduate           Yes       4100000     12200000   \n",
              "2                 3       Graduate            No       9100000     29700000   \n",
              "3                 3       Graduate            No       8200000     30700000   \n",
              "4                 5   Not Graduate           Yes       9800000     24200000   \n",
              "5                 0       Graduate           Yes       4800000     13500000   \n",
              "6                 5       Graduate            No       8700000     33000000   \n",
              "7                 2       Graduate           Yes       5700000     15000000   \n",
              "8                 0       Graduate           Yes        800000      2200000   \n",
              "9                 5   Not Graduate            No       1100000      4300000   \n",
              "\n",
              "   loan_term  cibil_score  residential_assets_value  commercial_assets_value  \\\n",
              "0         12          778                   2400000                 17600000   \n",
              "1          8          417                   2700000                  2200000   \n",
              "2         20          506                   7100000                  4500000   \n",
              "3          8          467                  18200000                  3300000   \n",
              "4         20          382                  12400000                  8200000   \n",
              "5         10          319                   6800000                  8300000   \n",
              "6          4          678                  22500000                 14800000   \n",
              "7         20          382                  13200000                  5700000   \n",
              "8         20          782                   1300000                   800000   \n",
              "9         10          388                   3200000                  1400000   \n",
              "\n",
              "   luxury_assets_value  bank_asset_value loan_status  \n",
              "0             22700000           8000000    Approved  \n",
              "1              8800000           3300000    Rejected  \n",
              "2             33300000          12800000    Rejected  \n",
              "3             23300000           7900000    Rejected  \n",
              "4             29400000           5000000    Rejected  \n",
              "5             13700000           5100000    Rejected  \n",
              "6             29200000           4300000    Approved  \n",
              "7             11800000           6000000    Rejected  \n",
              "8              2800000            600000    Approved  \n",
              "9              3300000           1600000    Rejected  "
            ]
          },
          "execution_count": 66,
          "metadata": {},
          "output_type": "execute_result"
        }
      ],
      "source": [
        "df.head(10)"
      ]
    },
    {
      "cell_type": "code",
      "execution_count": 67,
      "metadata": {
        "id": "k736Solsk4eu"
      },
      "outputs": [],
      "source": [
        "df['assets']=df.residential_assets_value+df.commercial_assets_value+df.luxury_assets_value+df.bank_asset_value"
      ]
    },
    {
      "cell_type": "code",
      "execution_count": 68,
      "metadata": {
        "colab": {
          "base_uri": "https://localhost:8080/",
          "height": 261
        },
        "id": "2etE_W__kEG2",
        "outputId": "676a5ef3-da0e-4ca7-d65f-e262e47682ec"
      },
      "outputs": [
        {
          "data": {
            "text/html": [
              "<div>\n",
              "<style scoped>\n",
              "    .dataframe tbody tr th:only-of-type {\n",
              "        vertical-align: middle;\n",
              "    }\n",
              "\n",
              "    .dataframe tbody tr th {\n",
              "        vertical-align: top;\n",
              "    }\n",
              "\n",
              "    .dataframe thead th {\n",
              "        text-align: right;\n",
              "    }\n",
              "</style>\n",
              "<table border=\"1\" class=\"dataframe\">\n",
              "  <thead>\n",
              "    <tr style=\"text-align: right;\">\n",
              "      <th></th>\n",
              "      <th>no_of_dependents</th>\n",
              "      <th>education</th>\n",
              "      <th>self_employed</th>\n",
              "      <th>income_annum</th>\n",
              "      <th>loan_amount</th>\n",
              "      <th>loan_term</th>\n",
              "      <th>cibil_score</th>\n",
              "      <th>residential_assets_value</th>\n",
              "      <th>commercial_assets_value</th>\n",
              "      <th>luxury_assets_value</th>\n",
              "      <th>bank_asset_value</th>\n",
              "      <th>loan_status</th>\n",
              "      <th>assets</th>\n",
              "    </tr>\n",
              "  </thead>\n",
              "  <tbody>\n",
              "    <tr>\n",
              "      <th>0</th>\n",
              "      <td>2</td>\n",
              "      <td>Graduate</td>\n",
              "      <td>No</td>\n",
              "      <td>9600000</td>\n",
              "      <td>29900000</td>\n",
              "      <td>12</td>\n",
              "      <td>778</td>\n",
              "      <td>2400000</td>\n",
              "      <td>17600000</td>\n",
              "      <td>22700000</td>\n",
              "      <td>8000000</td>\n",
              "      <td>Approved</td>\n",
              "      <td>50700000</td>\n",
              "    </tr>\n",
              "    <tr>\n",
              "      <th>1</th>\n",
              "      <td>0</td>\n",
              "      <td>Not Graduate</td>\n",
              "      <td>Yes</td>\n",
              "      <td>4100000</td>\n",
              "      <td>12200000</td>\n",
              "      <td>8</td>\n",
              "      <td>417</td>\n",
              "      <td>2700000</td>\n",
              "      <td>2200000</td>\n",
              "      <td>8800000</td>\n",
              "      <td>3300000</td>\n",
              "      <td>Rejected</td>\n",
              "      <td>17000000</td>\n",
              "    </tr>\n",
              "    <tr>\n",
              "      <th>2</th>\n",
              "      <td>3</td>\n",
              "      <td>Graduate</td>\n",
              "      <td>No</td>\n",
              "      <td>9100000</td>\n",
              "      <td>29700000</td>\n",
              "      <td>20</td>\n",
              "      <td>506</td>\n",
              "      <td>7100000</td>\n",
              "      <td>4500000</td>\n",
              "      <td>33300000</td>\n",
              "      <td>12800000</td>\n",
              "      <td>Rejected</td>\n",
              "      <td>57700000</td>\n",
              "    </tr>\n",
              "    <tr>\n",
              "      <th>3</th>\n",
              "      <td>3</td>\n",
              "      <td>Graduate</td>\n",
              "      <td>No</td>\n",
              "      <td>8200000</td>\n",
              "      <td>30700000</td>\n",
              "      <td>8</td>\n",
              "      <td>467</td>\n",
              "      <td>18200000</td>\n",
              "      <td>3300000</td>\n",
              "      <td>23300000</td>\n",
              "      <td>7900000</td>\n",
              "      <td>Rejected</td>\n",
              "      <td>52700000</td>\n",
              "    </tr>\n",
              "    <tr>\n",
              "      <th>4</th>\n",
              "      <td>5</td>\n",
              "      <td>Not Graduate</td>\n",
              "      <td>Yes</td>\n",
              "      <td>9800000</td>\n",
              "      <td>24200000</td>\n",
              "      <td>20</td>\n",
              "      <td>382</td>\n",
              "      <td>12400000</td>\n",
              "      <td>8200000</td>\n",
              "      <td>29400000</td>\n",
              "      <td>5000000</td>\n",
              "      <td>Rejected</td>\n",
              "      <td>55000000</td>\n",
              "    </tr>\n",
              "  </tbody>\n",
              "</table>\n",
              "</div>"
            ],
            "text/plain": [
              "   no_of_dependents      education self_employed  income_annum  loan_amount  \\\n",
              "0                 2       Graduate            No       9600000     29900000   \n",
              "1                 0   Not Graduate           Yes       4100000     12200000   \n",
              "2                 3       Graduate            No       9100000     29700000   \n",
              "3                 3       Graduate            No       8200000     30700000   \n",
              "4                 5   Not Graduate           Yes       9800000     24200000   \n",
              "\n",
              "   loan_term  cibil_score  residential_assets_value  commercial_assets_value  \\\n",
              "0         12          778                   2400000                 17600000   \n",
              "1          8          417                   2700000                  2200000   \n",
              "2         20          506                   7100000                  4500000   \n",
              "3          8          467                  18200000                  3300000   \n",
              "4         20          382                  12400000                  8200000   \n",
              "\n",
              "   luxury_assets_value  bank_asset_value loan_status    assets  \n",
              "0             22700000           8000000    Approved  50700000  \n",
              "1              8800000           3300000    Rejected  17000000  \n",
              "2             33300000          12800000    Rejected  57700000  \n",
              "3             23300000           7900000    Rejected  52700000  \n",
              "4             29400000           5000000    Rejected  55000000  "
            ]
          },
          "execution_count": 68,
          "metadata": {},
          "output_type": "execute_result"
        }
      ],
      "source": [
        "df.head()"
      ]
    },
    {
      "cell_type": "code",
      "execution_count": 69,
      "metadata": {
        "colab": {
          "base_uri": "https://localhost:8080/",
          "height": 261
        },
        "id": "HPDdRbOUlNpq",
        "outputId": "58dbd236-0c82-468b-d1ae-390a912cde10"
      },
      "outputs": [
        {
          "data": {
            "text/html": [
              "<div>\n",
              "<style scoped>\n",
              "    .dataframe tbody tr th:only-of-type {\n",
              "        vertical-align: middle;\n",
              "    }\n",
              "\n",
              "    .dataframe tbody tr th {\n",
              "        vertical-align: top;\n",
              "    }\n",
              "\n",
              "    .dataframe thead th {\n",
              "        text-align: right;\n",
              "    }\n",
              "</style>\n",
              "<table border=\"1\" class=\"dataframe\">\n",
              "  <thead>\n",
              "    <tr style=\"text-align: right;\">\n",
              "      <th></th>\n",
              "      <th>no_of_dependents</th>\n",
              "      <th>education</th>\n",
              "      <th>self_employed</th>\n",
              "      <th>income_annum</th>\n",
              "      <th>loan_amount</th>\n",
              "      <th>loan_term</th>\n",
              "      <th>cibil_score</th>\n",
              "      <th>residential_assets_value</th>\n",
              "      <th>commercial_assets_value</th>\n",
              "      <th>luxury_assets_value</th>\n",
              "      <th>bank_asset_value</th>\n",
              "      <th>loan_status</th>\n",
              "      <th>assets</th>\n",
              "    </tr>\n",
              "  </thead>\n",
              "  <tbody>\n",
              "    <tr>\n",
              "      <th>0</th>\n",
              "      <td>2</td>\n",
              "      <td>Graduate</td>\n",
              "      <td>No</td>\n",
              "      <td>9600000</td>\n",
              "      <td>29900000</td>\n",
              "      <td>12</td>\n",
              "      <td>778</td>\n",
              "      <td>2400000</td>\n",
              "      <td>17600000</td>\n",
              "      <td>22700000</td>\n",
              "      <td>8000000</td>\n",
              "      <td>Approved</td>\n",
              "      <td>50700000</td>\n",
              "    </tr>\n",
              "    <tr>\n",
              "      <th>1</th>\n",
              "      <td>0</td>\n",
              "      <td>Not Graduate</td>\n",
              "      <td>Yes</td>\n",
              "      <td>4100000</td>\n",
              "      <td>12200000</td>\n",
              "      <td>8</td>\n",
              "      <td>417</td>\n",
              "      <td>2700000</td>\n",
              "      <td>2200000</td>\n",
              "      <td>8800000</td>\n",
              "      <td>3300000</td>\n",
              "      <td>Rejected</td>\n",
              "      <td>17000000</td>\n",
              "    </tr>\n",
              "    <tr>\n",
              "      <th>2</th>\n",
              "      <td>3</td>\n",
              "      <td>Graduate</td>\n",
              "      <td>No</td>\n",
              "      <td>9100000</td>\n",
              "      <td>29700000</td>\n",
              "      <td>20</td>\n",
              "      <td>506</td>\n",
              "      <td>7100000</td>\n",
              "      <td>4500000</td>\n",
              "      <td>33300000</td>\n",
              "      <td>12800000</td>\n",
              "      <td>Rejected</td>\n",
              "      <td>57700000</td>\n",
              "    </tr>\n",
              "    <tr>\n",
              "      <th>3</th>\n",
              "      <td>3</td>\n",
              "      <td>Graduate</td>\n",
              "      <td>No</td>\n",
              "      <td>8200000</td>\n",
              "      <td>30700000</td>\n",
              "      <td>8</td>\n",
              "      <td>467</td>\n",
              "      <td>18200000</td>\n",
              "      <td>3300000</td>\n",
              "      <td>23300000</td>\n",
              "      <td>7900000</td>\n",
              "      <td>Rejected</td>\n",
              "      <td>52700000</td>\n",
              "    </tr>\n",
              "    <tr>\n",
              "      <th>4</th>\n",
              "      <td>5</td>\n",
              "      <td>Not Graduate</td>\n",
              "      <td>Yes</td>\n",
              "      <td>9800000</td>\n",
              "      <td>24200000</td>\n",
              "      <td>20</td>\n",
              "      <td>382</td>\n",
              "      <td>12400000</td>\n",
              "      <td>8200000</td>\n",
              "      <td>29400000</td>\n",
              "      <td>5000000</td>\n",
              "      <td>Rejected</td>\n",
              "      <td>55000000</td>\n",
              "    </tr>\n",
              "  </tbody>\n",
              "</table>\n",
              "</div>"
            ],
            "text/plain": [
              "   no_of_dependents      education self_employed  income_annum  loan_amount  \\\n",
              "0                 2       Graduate            No       9600000     29900000   \n",
              "1                 0   Not Graduate           Yes       4100000     12200000   \n",
              "2                 3       Graduate            No       9100000     29700000   \n",
              "3                 3       Graduate            No       8200000     30700000   \n",
              "4                 5   Not Graduate           Yes       9800000     24200000   \n",
              "\n",
              "   loan_term  cibil_score  residential_assets_value  commercial_assets_value  \\\n",
              "0         12          778                   2400000                 17600000   \n",
              "1          8          417                   2700000                  2200000   \n",
              "2         20          506                   7100000                  4500000   \n",
              "3          8          467                  18200000                  3300000   \n",
              "4         20          382                  12400000                  8200000   \n",
              "\n",
              "   luxury_assets_value  bank_asset_value loan_status    assets  \n",
              "0             22700000           8000000    Approved  50700000  \n",
              "1              8800000           3300000    Rejected  17000000  \n",
              "2             33300000          12800000    Rejected  57700000  \n",
              "3             23300000           7900000    Rejected  52700000  \n",
              "4             29400000           5000000    Rejected  55000000  "
            ]
          },
          "execution_count": 69,
          "metadata": {},
          "output_type": "execute_result"
        }
      ],
      "source": [
        "df.head()"
      ]
    },
    {
      "cell_type": "code",
      "execution_count": 70,
      "metadata": {
        "id": "RwexsvuzlQYp"
      },
      "outputs": [],
      "source": [
        "df.drop(columns=['residential_assets_value','commercial_assets_value','luxury_assets_value','bank_asset_value'],inplace=True)"
      ]
    },
    {
      "cell_type": "code",
      "execution_count": 71,
      "metadata": {
        "colab": {
          "base_uri": "https://localhost:8080/",
          "height": 206
        },
        "id": "bNl8lX6hlwum",
        "outputId": "d9f4e35b-8b77-46fb-a1a4-8d52e997f95a"
      },
      "outputs": [
        {
          "data": {
            "text/html": [
              "<div>\n",
              "<style scoped>\n",
              "    .dataframe tbody tr th:only-of-type {\n",
              "        vertical-align: middle;\n",
              "    }\n",
              "\n",
              "    .dataframe tbody tr th {\n",
              "        vertical-align: top;\n",
              "    }\n",
              "\n",
              "    .dataframe thead th {\n",
              "        text-align: right;\n",
              "    }\n",
              "</style>\n",
              "<table border=\"1\" class=\"dataframe\">\n",
              "  <thead>\n",
              "    <tr style=\"text-align: right;\">\n",
              "      <th></th>\n",
              "      <th>no_of_dependents</th>\n",
              "      <th>education</th>\n",
              "      <th>self_employed</th>\n",
              "      <th>income_annum</th>\n",
              "      <th>loan_amount</th>\n",
              "      <th>loan_term</th>\n",
              "      <th>cibil_score</th>\n",
              "      <th>loan_status</th>\n",
              "      <th>assets</th>\n",
              "    </tr>\n",
              "  </thead>\n",
              "  <tbody>\n",
              "    <tr>\n",
              "      <th>0</th>\n",
              "      <td>2</td>\n",
              "      <td>Graduate</td>\n",
              "      <td>No</td>\n",
              "      <td>9600000</td>\n",
              "      <td>29900000</td>\n",
              "      <td>12</td>\n",
              "      <td>778</td>\n",
              "      <td>Approved</td>\n",
              "      <td>50700000</td>\n",
              "    </tr>\n",
              "    <tr>\n",
              "      <th>1</th>\n",
              "      <td>0</td>\n",
              "      <td>Not Graduate</td>\n",
              "      <td>Yes</td>\n",
              "      <td>4100000</td>\n",
              "      <td>12200000</td>\n",
              "      <td>8</td>\n",
              "      <td>417</td>\n",
              "      <td>Rejected</td>\n",
              "      <td>17000000</td>\n",
              "    </tr>\n",
              "    <tr>\n",
              "      <th>2</th>\n",
              "      <td>3</td>\n",
              "      <td>Graduate</td>\n",
              "      <td>No</td>\n",
              "      <td>9100000</td>\n",
              "      <td>29700000</td>\n",
              "      <td>20</td>\n",
              "      <td>506</td>\n",
              "      <td>Rejected</td>\n",
              "      <td>57700000</td>\n",
              "    </tr>\n",
              "    <tr>\n",
              "      <th>3</th>\n",
              "      <td>3</td>\n",
              "      <td>Graduate</td>\n",
              "      <td>No</td>\n",
              "      <td>8200000</td>\n",
              "      <td>30700000</td>\n",
              "      <td>8</td>\n",
              "      <td>467</td>\n",
              "      <td>Rejected</td>\n",
              "      <td>52700000</td>\n",
              "    </tr>\n",
              "    <tr>\n",
              "      <th>4</th>\n",
              "      <td>5</td>\n",
              "      <td>Not Graduate</td>\n",
              "      <td>Yes</td>\n",
              "      <td>9800000</td>\n",
              "      <td>24200000</td>\n",
              "      <td>20</td>\n",
              "      <td>382</td>\n",
              "      <td>Rejected</td>\n",
              "      <td>55000000</td>\n",
              "    </tr>\n",
              "  </tbody>\n",
              "</table>\n",
              "</div>"
            ],
            "text/plain": [
              "   no_of_dependents      education self_employed  income_annum  loan_amount  \\\n",
              "0                 2       Graduate            No       9600000     29900000   \n",
              "1                 0   Not Graduate           Yes       4100000     12200000   \n",
              "2                 3       Graduate            No       9100000     29700000   \n",
              "3                 3       Graduate            No       8200000     30700000   \n",
              "4                 5   Not Graduate           Yes       9800000     24200000   \n",
              "\n",
              "   loan_term  cibil_score loan_status    assets  \n",
              "0         12          778    Approved  50700000  \n",
              "1          8          417    Rejected  17000000  \n",
              "2         20          506    Rejected  57700000  \n",
              "3          8          467    Rejected  52700000  \n",
              "4         20          382    Rejected  55000000  "
            ]
          },
          "execution_count": 71,
          "metadata": {},
          "output_type": "execute_result"
        }
      ],
      "source": [
        "df.head()"
      ]
    },
    {
      "cell_type": "code",
      "execution_count": 72,
      "metadata": {
        "colab": {
          "base_uri": "https://localhost:8080/"
        },
        "id": "bWIDKmaQl0mu",
        "outputId": "487fa319-bc26-46fd-ea7b-c53cd5d4a2eb"
      },
      "outputs": [
        {
          "data": {
            "text/plain": [
              "no_of_dependents    0\n",
              "education           0\n",
              "self_employed       0\n",
              "income_annum        0\n",
              "loan_amount         0\n",
              "loan_term           0\n",
              "cibil_score         0\n",
              "loan_status         0\n",
              "assets              0\n",
              "dtype: int64"
            ]
          },
          "execution_count": 72,
          "metadata": {},
          "output_type": "execute_result"
        }
      ],
      "source": [
        "df.isnull().sum()"
      ]
    },
    {
      "cell_type": "code",
      "execution_count": 73,
      "metadata": {
        "colab": {
          "base_uri": "https://localhost:8080/"
        },
        "id": "KFY1G02kl88O",
        "outputId": "85deb36a-1dde-47e5-e216-e50e8c2a0691"
      },
      "outputs": [
        {
          "data": {
            "text/plain": [
              "(4269, 9)"
            ]
          },
          "execution_count": 73,
          "metadata": {},
          "output_type": "execute_result"
        }
      ],
      "source": [
        "df.shape"
      ]
    },
    {
      "cell_type": "code",
      "execution_count": 74,
      "metadata": {
        "colab": {
          "base_uri": "https://localhost:8080/"
        },
        "id": "AanPVPbenB3x",
        "outputId": "c651db7c-94d8-4f5c-d54e-2850696c0672"
      },
      "outputs": [
        {
          "data": {
            "text/plain": [
              "array([' Graduate', ' Not Graduate'], dtype=object)"
            ]
          },
          "execution_count": 74,
          "metadata": {},
          "output_type": "execute_result"
        }
      ],
      "source": [
        "df.education.unique()"
      ]
    },
    {
      "cell_type": "code",
      "execution_count": 75,
      "metadata": {},
      "outputs": [],
      "source": [
        "def clean_data(st):\n",
        "    st = st.strip()\n",
        "    return st"
      ]
    },
    {
      "cell_type": "code",
      "execution_count": 76,
      "metadata": {
        "id": "K_2FiDkzv8PZ"
      },
      "outputs": [],
      "source": [
        "df.education = df.education.apply(clean_data)"
      ]
    },
    {
      "cell_type": "code",
      "execution_count": 77,
      "metadata": {
        "colab": {
          "base_uri": "https://localhost:8080/"
        },
        "id": "2WXER4GRwcNy",
        "outputId": "36d0d1b7-5305-4338-aecc-2bb3a9b39190"
      },
      "outputs": [
        {
          "data": {
            "text/plain": [
              "array(['Graduate', 'Not Graduate'], dtype=object)"
            ]
          },
          "execution_count": 77,
          "metadata": {},
          "output_type": "execute_result"
        }
      ],
      "source": [
        "df.education.unique()"
      ]
    },
    {
      "cell_type": "code",
      "execution_count": 78,
      "metadata": {
        "id": "ed-g6hnkncfj"
      },
      "outputs": [
        {
          "name": "stderr",
          "output_type": "stream",
          "text": [
            "/var/folders/hx/vqs5wgmj1f33b0_gqj6cm2yh0000gn/T/ipykernel_3393/2095254892.py:1: FutureWarning: Downcasting behavior in `replace` is deprecated and will be removed in a future version. To retain the old behavior, explicitly call `result.infer_objects(copy=False)`. To opt-in to the future behavior, set `pd.set_option('future.no_silent_downcasting', True)`\n",
            "  df['self_employed']=df['self_employed'].replace([' Yes',' No'],[1,0])\n"
          ]
        }
      ],
      "source": [
        "df['self_employed']=df['self_employed'].replace([' Yes',' No'],[1,0])"
      ]
    },
    {
      "cell_type": "code",
      "execution_count": 79,
      "metadata": {
        "id": "iO5DReyhnH24"
      },
      "outputs": [
        {
          "name": "stderr",
          "output_type": "stream",
          "text": [
            "/var/folders/hx/vqs5wgmj1f33b0_gqj6cm2yh0000gn/T/ipykernel_3393/4191934056.py:1: FutureWarning: Downcasting behavior in `replace` is deprecated and will be removed in a future version. To retain the old behavior, explicitly call `result.infer_objects(copy=False)`. To opt-in to the future behavior, set `pd.set_option('future.no_silent_downcasting', True)`\n",
            "  df['education']=df['education'].replace(['Graduate','Not Graduate'],[1,0])\n"
          ]
        }
      ],
      "source": [
        "df['education']=df['education'].replace(['Graduate','Not Graduate'],[1,0])"
      ]
    },
    {
      "cell_type": "code",
      "execution_count": 80,
      "metadata": {
        "colab": {
          "base_uri": "https://localhost:8080/",
          "height": 206
        },
        "id": "rLQscScTw4gz",
        "outputId": "ba016c70-4e7b-4460-ea1e-20cc6605d279"
      },
      "outputs": [
        {
          "data": {
            "text/html": [
              "<div>\n",
              "<style scoped>\n",
              "    .dataframe tbody tr th:only-of-type {\n",
              "        vertical-align: middle;\n",
              "    }\n",
              "\n",
              "    .dataframe tbody tr th {\n",
              "        vertical-align: top;\n",
              "    }\n",
              "\n",
              "    .dataframe thead th {\n",
              "        text-align: right;\n",
              "    }\n",
              "</style>\n",
              "<table border=\"1\" class=\"dataframe\">\n",
              "  <thead>\n",
              "    <tr style=\"text-align: right;\">\n",
              "      <th></th>\n",
              "      <th>no_of_dependents</th>\n",
              "      <th>education</th>\n",
              "      <th>self_employed</th>\n",
              "      <th>income_annum</th>\n",
              "      <th>loan_amount</th>\n",
              "      <th>loan_term</th>\n",
              "      <th>cibil_score</th>\n",
              "      <th>loan_status</th>\n",
              "      <th>assets</th>\n",
              "    </tr>\n",
              "  </thead>\n",
              "  <tbody>\n",
              "    <tr>\n",
              "      <th>0</th>\n",
              "      <td>2</td>\n",
              "      <td>1</td>\n",
              "      <td>0</td>\n",
              "      <td>9600000</td>\n",
              "      <td>29900000</td>\n",
              "      <td>12</td>\n",
              "      <td>778</td>\n",
              "      <td>Approved</td>\n",
              "      <td>50700000</td>\n",
              "    </tr>\n",
              "    <tr>\n",
              "      <th>1</th>\n",
              "      <td>0</td>\n",
              "      <td>0</td>\n",
              "      <td>1</td>\n",
              "      <td>4100000</td>\n",
              "      <td>12200000</td>\n",
              "      <td>8</td>\n",
              "      <td>417</td>\n",
              "      <td>Rejected</td>\n",
              "      <td>17000000</td>\n",
              "    </tr>\n",
              "    <tr>\n",
              "      <th>2</th>\n",
              "      <td>3</td>\n",
              "      <td>1</td>\n",
              "      <td>0</td>\n",
              "      <td>9100000</td>\n",
              "      <td>29700000</td>\n",
              "      <td>20</td>\n",
              "      <td>506</td>\n",
              "      <td>Rejected</td>\n",
              "      <td>57700000</td>\n",
              "    </tr>\n",
              "    <tr>\n",
              "      <th>3</th>\n",
              "      <td>3</td>\n",
              "      <td>1</td>\n",
              "      <td>0</td>\n",
              "      <td>8200000</td>\n",
              "      <td>30700000</td>\n",
              "      <td>8</td>\n",
              "      <td>467</td>\n",
              "      <td>Rejected</td>\n",
              "      <td>52700000</td>\n",
              "    </tr>\n",
              "    <tr>\n",
              "      <th>4</th>\n",
              "      <td>5</td>\n",
              "      <td>0</td>\n",
              "      <td>1</td>\n",
              "      <td>9800000</td>\n",
              "      <td>24200000</td>\n",
              "      <td>20</td>\n",
              "      <td>382</td>\n",
              "      <td>Rejected</td>\n",
              "      <td>55000000</td>\n",
              "    </tr>\n",
              "  </tbody>\n",
              "</table>\n",
              "</div>"
            ],
            "text/plain": [
              "   no_of_dependents  education  self_employed  income_annum  loan_amount  \\\n",
              "0                 2          1              0       9600000     29900000   \n",
              "1                 0          0              1       4100000     12200000   \n",
              "2                 3          1              0       9100000     29700000   \n",
              "3                 3          1              0       8200000     30700000   \n",
              "4                 5          0              1       9800000     24200000   \n",
              "\n",
              "   loan_term  cibil_score loan_status    assets  \n",
              "0         12          778    Approved  50700000  \n",
              "1          8          417    Rejected  17000000  \n",
              "2         20          506    Rejected  57700000  \n",
              "3          8          467    Rejected  52700000  \n",
              "4         20          382    Rejected  55000000  "
            ]
          },
          "execution_count": 80,
          "metadata": {},
          "output_type": "execute_result"
        }
      ],
      "source": [
        "df.head()"
      ]
    },
    {
      "cell_type": "code",
      "execution_count": 81,
      "metadata": {
        "id": "xcSlGKqKntqk"
      },
      "outputs": [
        {
          "name": "stderr",
          "output_type": "stream",
          "text": [
            "/var/folders/hx/vqs5wgmj1f33b0_gqj6cm2yh0000gn/T/ipykernel_3393/31400806.py:1: FutureWarning: Downcasting behavior in `replace` is deprecated and will be removed in a future version. To retain the old behavior, explicitly call `result.infer_objects(copy=False)`. To opt-in to the future behavior, set `pd.set_option('future.no_silent_downcasting', True)`\n",
            "  df['loan_status']=df['loan_status'].replace([' Approved', ' Rejected'],[1,0])\n"
          ]
        }
      ],
      "source": [
        "df['loan_status']=df['loan_status'].replace([' Approved', ' Rejected'],[1,0])"
      ]
    },
    {
      "cell_type": "code",
      "execution_count": 82,
      "metadata": {
        "colab": {
          "base_uri": "https://localhost:8080/",
          "height": 206
        },
        "id": "onTz8XONpV0g",
        "outputId": "d1a0dca4-e2a5-4f22-a21e-74a6da7c82e9"
      },
      "outputs": [
        {
          "data": {
            "text/html": [
              "<div>\n",
              "<style scoped>\n",
              "    .dataframe tbody tr th:only-of-type {\n",
              "        vertical-align: middle;\n",
              "    }\n",
              "\n",
              "    .dataframe tbody tr th {\n",
              "        vertical-align: top;\n",
              "    }\n",
              "\n",
              "    .dataframe thead th {\n",
              "        text-align: right;\n",
              "    }\n",
              "</style>\n",
              "<table border=\"1\" class=\"dataframe\">\n",
              "  <thead>\n",
              "    <tr style=\"text-align: right;\">\n",
              "      <th></th>\n",
              "      <th>no_of_dependents</th>\n",
              "      <th>education</th>\n",
              "      <th>self_employed</th>\n",
              "      <th>income_annum</th>\n",
              "      <th>loan_amount</th>\n",
              "      <th>loan_term</th>\n",
              "      <th>cibil_score</th>\n",
              "      <th>loan_status</th>\n",
              "      <th>assets</th>\n",
              "    </tr>\n",
              "  </thead>\n",
              "  <tbody>\n",
              "    <tr>\n",
              "      <th>0</th>\n",
              "      <td>2</td>\n",
              "      <td>1</td>\n",
              "      <td>0</td>\n",
              "      <td>9600000</td>\n",
              "      <td>29900000</td>\n",
              "      <td>12</td>\n",
              "      <td>778</td>\n",
              "      <td>1</td>\n",
              "      <td>50700000</td>\n",
              "    </tr>\n",
              "    <tr>\n",
              "      <th>1</th>\n",
              "      <td>0</td>\n",
              "      <td>0</td>\n",
              "      <td>1</td>\n",
              "      <td>4100000</td>\n",
              "      <td>12200000</td>\n",
              "      <td>8</td>\n",
              "      <td>417</td>\n",
              "      <td>0</td>\n",
              "      <td>17000000</td>\n",
              "    </tr>\n",
              "    <tr>\n",
              "      <th>2</th>\n",
              "      <td>3</td>\n",
              "      <td>1</td>\n",
              "      <td>0</td>\n",
              "      <td>9100000</td>\n",
              "      <td>29700000</td>\n",
              "      <td>20</td>\n",
              "      <td>506</td>\n",
              "      <td>0</td>\n",
              "      <td>57700000</td>\n",
              "    </tr>\n",
              "    <tr>\n",
              "      <th>3</th>\n",
              "      <td>3</td>\n",
              "      <td>1</td>\n",
              "      <td>0</td>\n",
              "      <td>8200000</td>\n",
              "      <td>30700000</td>\n",
              "      <td>8</td>\n",
              "      <td>467</td>\n",
              "      <td>0</td>\n",
              "      <td>52700000</td>\n",
              "    </tr>\n",
              "    <tr>\n",
              "      <th>4</th>\n",
              "      <td>5</td>\n",
              "      <td>0</td>\n",
              "      <td>1</td>\n",
              "      <td>9800000</td>\n",
              "      <td>24200000</td>\n",
              "      <td>20</td>\n",
              "      <td>382</td>\n",
              "      <td>0</td>\n",
              "      <td>55000000</td>\n",
              "    </tr>\n",
              "  </tbody>\n",
              "</table>\n",
              "</div>"
            ],
            "text/plain": [
              "   no_of_dependents  education  self_employed  income_annum  loan_amount  \\\n",
              "0                 2          1              0       9600000     29900000   \n",
              "1                 0          0              1       4100000     12200000   \n",
              "2                 3          1              0       9100000     29700000   \n",
              "3                 3          1              0       8200000     30700000   \n",
              "4                 5          0              1       9800000     24200000   \n",
              "\n",
              "   loan_term  cibil_score  loan_status    assets  \n",
              "0         12          778            1  50700000  \n",
              "1          8          417            0  17000000  \n",
              "2         20          506            0  57700000  \n",
              "3          8          467            0  52700000  \n",
              "4         20          382            0  55000000  "
            ]
          },
          "execution_count": 82,
          "metadata": {},
          "output_type": "execute_result"
        }
      ],
      "source": [
        "df.head()"
      ]
    },
    {
      "cell_type": "code",
      "execution_count": 83,
      "metadata": {
        "colab": {
          "base_uri": "https://localhost:8080/",
          "height": 300
        },
        "id": "Jj8LqY1WqJkB",
        "outputId": "d2e813f0-552a-44dc-ea00-3d1b994f1896"
      },
      "outputs": [
        {
          "data": {
            "text/html": [
              "<div>\n",
              "<style scoped>\n",
              "    .dataframe tbody tr th:only-of-type {\n",
              "        vertical-align: middle;\n",
              "    }\n",
              "\n",
              "    .dataframe tbody tr th {\n",
              "        vertical-align: top;\n",
              "    }\n",
              "\n",
              "    .dataframe thead th {\n",
              "        text-align: right;\n",
              "    }\n",
              "</style>\n",
              "<table border=\"1\" class=\"dataframe\">\n",
              "  <thead>\n",
              "    <tr style=\"text-align: right;\">\n",
              "      <th></th>\n",
              "      <th>no_of_dependents</th>\n",
              "      <th>education</th>\n",
              "      <th>self_employed</th>\n",
              "      <th>income_annum</th>\n",
              "      <th>loan_amount</th>\n",
              "      <th>loan_term</th>\n",
              "      <th>cibil_score</th>\n",
              "      <th>loan_status</th>\n",
              "      <th>assets</th>\n",
              "    </tr>\n",
              "  </thead>\n",
              "  <tbody>\n",
              "    <tr>\n",
              "      <th>count</th>\n",
              "      <td>4269.000000</td>\n",
              "      <td>4269.000000</td>\n",
              "      <td>4269.000000</td>\n",
              "      <td>4.269000e+03</td>\n",
              "      <td>4.269000e+03</td>\n",
              "      <td>4269.000000</td>\n",
              "      <td>4269.000000</td>\n",
              "      <td>4269.000000</td>\n",
              "      <td>4.269000e+03</td>\n",
              "    </tr>\n",
              "    <tr>\n",
              "      <th>mean</th>\n",
              "      <td>2.498712</td>\n",
              "      <td>0.502225</td>\n",
              "      <td>0.503631</td>\n",
              "      <td>5.059124e+06</td>\n",
              "      <td>1.513345e+07</td>\n",
              "      <td>10.900445</td>\n",
              "      <td>599.936051</td>\n",
              "      <td>0.622160</td>\n",
              "      <td>3.254877e+07</td>\n",
              "    </tr>\n",
              "    <tr>\n",
              "      <th>std</th>\n",
              "      <td>1.695910</td>\n",
              "      <td>0.500054</td>\n",
              "      <td>0.500045</td>\n",
              "      <td>2.806840e+06</td>\n",
              "      <td>9.043363e+06</td>\n",
              "      <td>5.709187</td>\n",
              "      <td>172.430401</td>\n",
              "      <td>0.484904</td>\n",
              "      <td>1.950656e+07</td>\n",
              "    </tr>\n",
              "    <tr>\n",
              "      <th>min</th>\n",
              "      <td>0.000000</td>\n",
              "      <td>0.000000</td>\n",
              "      <td>0.000000</td>\n",
              "      <td>2.000000e+05</td>\n",
              "      <td>3.000000e+05</td>\n",
              "      <td>2.000000</td>\n",
              "      <td>300.000000</td>\n",
              "      <td>0.000000</td>\n",
              "      <td>4.000000e+05</td>\n",
              "    </tr>\n",
              "    <tr>\n",
              "      <th>25%</th>\n",
              "      <td>1.000000</td>\n",
              "      <td>0.000000</td>\n",
              "      <td>0.000000</td>\n",
              "      <td>2.700000e+06</td>\n",
              "      <td>7.700000e+06</td>\n",
              "      <td>6.000000</td>\n",
              "      <td>453.000000</td>\n",
              "      <td>0.000000</td>\n",
              "      <td>1.630000e+07</td>\n",
              "    </tr>\n",
              "    <tr>\n",
              "      <th>50%</th>\n",
              "      <td>3.000000</td>\n",
              "      <td>1.000000</td>\n",
              "      <td>1.000000</td>\n",
              "      <td>5.100000e+06</td>\n",
              "      <td>1.450000e+07</td>\n",
              "      <td>10.000000</td>\n",
              "      <td>600.000000</td>\n",
              "      <td>1.000000</td>\n",
              "      <td>3.150000e+07</td>\n",
              "    </tr>\n",
              "    <tr>\n",
              "      <th>75%</th>\n",
              "      <td>4.000000</td>\n",
              "      <td>1.000000</td>\n",
              "      <td>1.000000</td>\n",
              "      <td>7.500000e+06</td>\n",
              "      <td>2.150000e+07</td>\n",
              "      <td>16.000000</td>\n",
              "      <td>748.000000</td>\n",
              "      <td>1.000000</td>\n",
              "      <td>4.720000e+07</td>\n",
              "    </tr>\n",
              "    <tr>\n",
              "      <th>max</th>\n",
              "      <td>5.000000</td>\n",
              "      <td>1.000000</td>\n",
              "      <td>1.000000</td>\n",
              "      <td>9.900000e+06</td>\n",
              "      <td>3.950000e+07</td>\n",
              "      <td>20.000000</td>\n",
              "      <td>900.000000</td>\n",
              "      <td>1.000000</td>\n",
              "      <td>9.070000e+07</td>\n",
              "    </tr>\n",
              "  </tbody>\n",
              "</table>\n",
              "</div>"
            ],
            "text/plain": [
              "       no_of_dependents    education  self_employed  income_annum  \\\n",
              "count       4269.000000  4269.000000    4269.000000  4.269000e+03   \n",
              "mean           2.498712     0.502225       0.503631  5.059124e+06   \n",
              "std            1.695910     0.500054       0.500045  2.806840e+06   \n",
              "min            0.000000     0.000000       0.000000  2.000000e+05   \n",
              "25%            1.000000     0.000000       0.000000  2.700000e+06   \n",
              "50%            3.000000     1.000000       1.000000  5.100000e+06   \n",
              "75%            4.000000     1.000000       1.000000  7.500000e+06   \n",
              "max            5.000000     1.000000       1.000000  9.900000e+06   \n",
              "\n",
              "        loan_amount    loan_term  cibil_score  loan_status        assets  \n",
              "count  4.269000e+03  4269.000000  4269.000000  4269.000000  4.269000e+03  \n",
              "mean   1.513345e+07    10.900445   599.936051     0.622160  3.254877e+07  \n",
              "std    9.043363e+06     5.709187   172.430401     0.484904  1.950656e+07  \n",
              "min    3.000000e+05     2.000000   300.000000     0.000000  4.000000e+05  \n",
              "25%    7.700000e+06     6.000000   453.000000     0.000000  1.630000e+07  \n",
              "50%    1.450000e+07    10.000000   600.000000     1.000000  3.150000e+07  \n",
              "75%    2.150000e+07    16.000000   748.000000     1.000000  4.720000e+07  \n",
              "max    3.950000e+07    20.000000   900.000000     1.000000  9.070000e+07  "
            ]
          },
          "execution_count": 83,
          "metadata": {},
          "output_type": "execute_result"
        }
      ],
      "source": [
        "df.describe(include='all')"
      ]
    },
    {
      "cell_type": "code",
      "execution_count": 84,
      "metadata": {
        "colab": {
          "base_uri": "https://localhost:8080/",
          "height": 206
        },
        "id": "8KmukWauqQNm",
        "outputId": "2a82600a-1b1e-4797-a890-cc758da8be1d"
      },
      "outputs": [
        {
          "data": {
            "text/html": [
              "<div>\n",
              "<style scoped>\n",
              "    .dataframe tbody tr th:only-of-type {\n",
              "        vertical-align: middle;\n",
              "    }\n",
              "\n",
              "    .dataframe tbody tr th {\n",
              "        vertical-align: top;\n",
              "    }\n",
              "\n",
              "    .dataframe thead th {\n",
              "        text-align: right;\n",
              "    }\n",
              "</style>\n",
              "<table border=\"1\" class=\"dataframe\">\n",
              "  <thead>\n",
              "    <tr style=\"text-align: right;\">\n",
              "      <th></th>\n",
              "      <th>no_of_dependents</th>\n",
              "      <th>education</th>\n",
              "      <th>self_employed</th>\n",
              "      <th>income_annum</th>\n",
              "      <th>loan_amount</th>\n",
              "      <th>loan_term</th>\n",
              "      <th>cibil_score</th>\n",
              "      <th>loan_status</th>\n",
              "      <th>assets</th>\n",
              "    </tr>\n",
              "  </thead>\n",
              "  <tbody>\n",
              "    <tr>\n",
              "      <th>0</th>\n",
              "      <td>2</td>\n",
              "      <td>1</td>\n",
              "      <td>0</td>\n",
              "      <td>9600000</td>\n",
              "      <td>29900000</td>\n",
              "      <td>12</td>\n",
              "      <td>778</td>\n",
              "      <td>1</td>\n",
              "      <td>50700000</td>\n",
              "    </tr>\n",
              "    <tr>\n",
              "      <th>1</th>\n",
              "      <td>0</td>\n",
              "      <td>0</td>\n",
              "      <td>1</td>\n",
              "      <td>4100000</td>\n",
              "      <td>12200000</td>\n",
              "      <td>8</td>\n",
              "      <td>417</td>\n",
              "      <td>0</td>\n",
              "      <td>17000000</td>\n",
              "    </tr>\n",
              "    <tr>\n",
              "      <th>2</th>\n",
              "      <td>3</td>\n",
              "      <td>1</td>\n",
              "      <td>0</td>\n",
              "      <td>9100000</td>\n",
              "      <td>29700000</td>\n",
              "      <td>20</td>\n",
              "      <td>506</td>\n",
              "      <td>0</td>\n",
              "      <td>57700000</td>\n",
              "    </tr>\n",
              "    <tr>\n",
              "      <th>3</th>\n",
              "      <td>3</td>\n",
              "      <td>1</td>\n",
              "      <td>0</td>\n",
              "      <td>8200000</td>\n",
              "      <td>30700000</td>\n",
              "      <td>8</td>\n",
              "      <td>467</td>\n",
              "      <td>0</td>\n",
              "      <td>52700000</td>\n",
              "    </tr>\n",
              "    <tr>\n",
              "      <th>4</th>\n",
              "      <td>5</td>\n",
              "      <td>0</td>\n",
              "      <td>1</td>\n",
              "      <td>9800000</td>\n",
              "      <td>24200000</td>\n",
              "      <td>20</td>\n",
              "      <td>382</td>\n",
              "      <td>0</td>\n",
              "      <td>55000000</td>\n",
              "    </tr>\n",
              "  </tbody>\n",
              "</table>\n",
              "</div>"
            ],
            "text/plain": [
              "   no_of_dependents  education  self_employed  income_annum  loan_amount  \\\n",
              "0                 2          1              0       9600000     29900000   \n",
              "1                 0          0              1       4100000     12200000   \n",
              "2                 3          1              0       9100000     29700000   \n",
              "3                 3          1              0       8200000     30700000   \n",
              "4                 5          0              1       9800000     24200000   \n",
              "\n",
              "   loan_term  cibil_score  loan_status    assets  \n",
              "0         12          778            1  50700000  \n",
              "1          8          417            0  17000000  \n",
              "2         20          506            0  57700000  \n",
              "3          8          467            0  52700000  \n",
              "4         20          382            0  55000000  "
            ]
          },
          "execution_count": 84,
          "metadata": {},
          "output_type": "execute_result"
        }
      ],
      "source": [
        "df.head()"
      ]
    },
    {
      "cell_type": "markdown",
      "metadata": {
        "id": "8ybGOr9jrO26"
      },
      "source": [
        "DATA EXPLORATORY"
      ]
    },
    {
      "cell_type": "code",
      "execution_count": 85,
      "metadata": {
        "id": "3opaC4Dtq3ci"
      },
      "outputs": [],
      "source": [
        "import seaborn as sns\n",
        "import matplotlib.pyplot as plt"
      ]
    },
    {
      "cell_type": "code",
      "execution_count": 86,
      "metadata": {
        "colab": {
          "base_uri": "https://localhost:8080/",
          "height": 564
        },
        "id": "oiarfaXhtRM6",
        "outputId": "88728898-7de4-4065-e8b6-a76a9ad68bf0"
      },
      "outputs": [
        {
          "data": {
            "image/png": "[encoded data removed]",
            "text/plain": [
              "<Figure size 800x600 with 1 Axes>"
            ]
          },
          "metadata": {},
          "output_type": "display_data"
        }
      ],
      "source": [
        "# Count plot for loan status\n",
        "plt.figure(figsize=(8, 6))\n",
        "sns.countplot(data=df, x='loan_status')\n",
        "plt.title('Distribution of Loan Status')\n",
        "plt.xlabel('Loan Status')\n",
        "plt.ylabel('Count')\n",
        "plt.show()\n"
      ]
    },
    {
      "cell_type": "code",
      "execution_count": 87,
      "metadata": {
        "colab": {
          "base_uri": "https://localhost:8080/",
          "height": 601
        },
        "id": "zA9aty2xyvUZ",
        "outputId": "1d0d6305-0cbd-4f87-f4f0-21f8e37b5c69"
      },
      "outputs": [
        {
          "data": {
            "image/png": "[encoded data removed]",
            "text/plain": [
              "<Figure size 1000x600 with 1 Axes>"
            ]
          },
          "metadata": {},
          "output_type": "display_data"
        }
      ],
      "source": [
        "# Define bins for CIBIL scores\n",
        "bins = [0, 600, 650, 700, 750, 800, 850, 900]\n",
        "labels = ['<600', '600-649', '650-699', '700-749', '750-799', '800-849', '850-900']\n",
        "\n",
        "# Create a new column for CIBIL score ranges\n",
        "df['cibil_score_range'] = pd.cut(df['cibil_score'], bins=bins, labels=labels, right=False)\n",
        "\n",
        "# Count plot for CIBIL score range and loan status\n",
        "plt.figure(figsize=(10, 6))\n",
        "sns.countplot(data=df, x='cibil_score_range', hue='loan_status')\n",
        "plt.title('Distribution of Loan Status by CIBIL Score Range')\n",
        "plt.xlabel('CIBIL Score Range')\n",
        "plt.ylabel('Count')\n",
        "plt.xticks(rotation=45)\n",
        "plt.legend(title='Loan Status')\n",
        "plt.show()\n",
        "\n",
        "# Remove the added column\n",
        "df.drop('cibil_score_range', axis=1, inplace=True)\n"
      ]
    },
    {
      "cell_type": "code",
      "execution_count": 88,
      "metadata": {
        "colab": {
          "base_uri": "https://localhost:8080/",
          "height": 566
        },
        "id": "_j9BDnXVzmc9",
        "outputId": "decab36c-40e5-4728-8538-9b3750901f6f"
      },
      "outputs": [
        {
          "data": {
            "image/png": "[encoded data removed]",
            "text/plain": [
              "<Figure size 1000x600 with 1 Axes>"
            ]
          },
          "metadata": {},
          "output_type": "display_data"
        }
      ],
      "source": [
        "plt.figure(figsize=(10, 6))\n",
        "sns.countplot(data=df, x='self_employed', hue='loan_status')\n",
        "plt.title('Distribution of Loan Status by self_employed')\n",
        "plt.xlabel('self_employed')\n",
        "plt.ylabel('Count')\n",
        "plt.xticks(rotation=45)\n",
        "plt.legend(title='Loan Status')\n",
        "plt.show()"
      ]
    },
    {
      "cell_type": "code",
      "execution_count": 89,
      "metadata": {
        "colab": {
          "base_uri": "https://localhost:8080/",
          "height": 612
        },
        "id": "d8sOl8iv7cKu",
        "outputId": "cb3987a2-ef85-48b6-e20b-79aeddb916ee"
      },
      "outputs": [
        {
          "data": {
            "image/png": "[encoded data removed]",
            "text/plain": [
              "<Figure size 1000x600 with 1 Axes>"
            ]
          },
          "metadata": {},
          "output_type": "display_data"
        }
      ],
      "source": [
        "# Define bins for assets value\n",
        "bins = [0, 10000, 50000, 100000, 500000, 1000000, 5000000, 10000000, float('inf')]\n",
        "labels = ['<10k', '10k-50k', '50k-100k', '100k-500k', '500k-1M', '1M-5M', '5M-10M', '>10M']\n",
        "\n",
        "# Create a new column for assets value ranges\n",
        "df['assets_range'] = pd.cut(df['assets'], bins=bins, labels=labels, right=False)\n",
        "\n",
        "# Count plot for assets range and loan status\n",
        "plt.figure(figsize=(10, 6))\n",
        "sns.countplot(data=df, x='assets_range', hue='loan_status')\n",
        "plt.title('Distribution of Loan Status by Assets Range')\n",
        "plt.xlabel('Assets Range')\n",
        "plt.ylabel('Count')\n",
        "plt.xticks(rotation=45)\n",
        "plt.legend(title='Loan Status')\n",
        "plt.show()\n",
        "\n",
        "# Remove the added column\n",
        "df.drop('assets_range', axis=1, inplace=True)\n"
      ]
    },
    {
      "cell_type": "code",
      "execution_count": 90,
      "metadata": {
        "colab": {
          "base_uri": "https://localhost:8080/",
          "height": 424
        },
        "id": "YpoBQWme8wF-",
        "outputId": "83227a9a-ac3c-451d-e3fe-cd1e2f1ef63a"
      },
      "outputs": [
        {
          "data": {
            "text/html": [
              "<div>\n",
              "<style scoped>\n",
              "    .dataframe tbody tr th:only-of-type {\n",
              "        vertical-align: middle;\n",
              "    }\n",
              "\n",
              "    .dataframe tbody tr th {\n",
              "        vertical-align: top;\n",
              "    }\n",
              "\n",
              "    .dataframe thead th {\n",
              "        text-align: right;\n",
              "    }\n",
              "</style>\n",
              "<table border=\"1\" class=\"dataframe\">\n",
              "  <thead>\n",
              "    <tr style=\"text-align: right;\">\n",
              "      <th></th>\n",
              "      <th>no_of_dependents</th>\n",
              "      <th>education</th>\n",
              "      <th>self_employed</th>\n",
              "      <th>income_annum</th>\n",
              "      <th>loan_amount</th>\n",
              "      <th>loan_term</th>\n",
              "      <th>cibil_score</th>\n",
              "      <th>loan_status</th>\n",
              "      <th>assets</th>\n",
              "    </tr>\n",
              "  </thead>\n",
              "  <tbody>\n",
              "    <tr>\n",
              "      <th>0</th>\n",
              "      <td>2</td>\n",
              "      <td>1</td>\n",
              "      <td>0</td>\n",
              "      <td>9600000</td>\n",
              "      <td>29900000</td>\n",
              "      <td>12</td>\n",
              "      <td>778</td>\n",
              "      <td>1</td>\n",
              "      <td>50700000</td>\n",
              "    </tr>\n",
              "    <tr>\n",
              "      <th>1</th>\n",
              "      <td>0</td>\n",
              "      <td>0</td>\n",
              "      <td>1</td>\n",
              "      <td>4100000</td>\n",
              "      <td>12200000</td>\n",
              "      <td>8</td>\n",
              "      <td>417</td>\n",
              "      <td>0</td>\n",
              "      <td>17000000</td>\n",
              "    </tr>\n",
              "    <tr>\n",
              "      <th>2</th>\n",
              "      <td>3</td>\n",
              "      <td>1</td>\n",
              "      <td>0</td>\n",
              "      <td>9100000</td>\n",
              "      <td>29700000</td>\n",
              "      <td>20</td>\n",
              "      <td>506</td>\n",
              "      <td>0</td>\n",
              "      <td>57700000</td>\n",
              "    </tr>\n",
              "    <tr>\n",
              "      <th>3</th>\n",
              "      <td>3</td>\n",
              "      <td>1</td>\n",
              "      <td>0</td>\n",
              "      <td>8200000</td>\n",
              "      <td>30700000</td>\n",
              "      <td>8</td>\n",
              "      <td>467</td>\n",
              "      <td>0</td>\n",
              "      <td>52700000</td>\n",
              "    </tr>\n",
              "    <tr>\n",
              "      <th>4</th>\n",
              "      <td>5</td>\n",
              "      <td>0</td>\n",
              "      <td>1</td>\n",
              "      <td>9800000</td>\n",
              "      <td>24200000</td>\n",
              "      <td>20</td>\n",
              "      <td>382</td>\n",
              "      <td>0</td>\n",
              "      <td>55000000</td>\n",
              "    </tr>\n",
              "    <tr>\n",
              "      <th>...</th>\n",
              "      <td>...</td>\n",
              "      <td>...</td>\n",
              "      <td>...</td>\n",
              "      <td>...</td>\n",
              "      <td>...</td>\n",
              "      <td>...</td>\n",
              "      <td>...</td>\n",
              "      <td>...</td>\n",
              "      <td>...</td>\n",
              "    </tr>\n",
              "    <tr>\n",
              "      <th>4264</th>\n",
              "      <td>5</td>\n",
              "      <td>1</td>\n",
              "      <td>1</td>\n",
              "      <td>1000000</td>\n",
              "      <td>2300000</td>\n",
              "      <td>12</td>\n",
              "      <td>317</td>\n",
              "      <td>0</td>\n",
              "      <td>7400000</td>\n",
              "    </tr>\n",
              "    <tr>\n",
              "      <th>4265</th>\n",
              "      <td>0</td>\n",
              "      <td>0</td>\n",
              "      <td>1</td>\n",
              "      <td>3300000</td>\n",
              "      <td>11300000</td>\n",
              "      <td>20</td>\n",
              "      <td>559</td>\n",
              "      <td>1</td>\n",
              "      <td>20000000</td>\n",
              "    </tr>\n",
              "    <tr>\n",
              "      <th>4266</th>\n",
              "      <td>2</td>\n",
              "      <td>0</td>\n",
              "      <td>0</td>\n",
              "      <td>6500000</td>\n",
              "      <td>23900000</td>\n",
              "      <td>18</td>\n",
              "      <td>457</td>\n",
              "      <td>0</td>\n",
              "      <td>39000000</td>\n",
              "    </tr>\n",
              "    <tr>\n",
              "      <th>4267</th>\n",
              "      <td>1</td>\n",
              "      <td>0</td>\n",
              "      <td>0</td>\n",
              "      <td>4100000</td>\n",
              "      <td>12800000</td>\n",
              "      <td>8</td>\n",
              "      <td>780</td>\n",
              "      <td>1</td>\n",
              "      <td>28800000</td>\n",
              "    </tr>\n",
              "    <tr>\n",
              "      <th>4268</th>\n",
              "      <td>1</td>\n",
              "      <td>1</td>\n",
              "      <td>0</td>\n",
              "      <td>9200000</td>\n",
              "      <td>29700000</td>\n",
              "      <td>10</td>\n",
              "      <td>607</td>\n",
              "      <td>1</td>\n",
              "      <td>77300000</td>\n",
              "    </tr>\n",
              "  </tbody>\n",
              "</table>\n",
              "<p>4269 rows × 9 columns</p>\n",
              "</div>"
            ],
            "text/plain": [
              "      no_of_dependents  education  self_employed  income_annum  loan_amount  \\\n",
              "0                    2          1              0       9600000     29900000   \n",
              "1                    0          0              1       4100000     12200000   \n",
              "2                    3          1              0       9100000     29700000   \n",
              "3                    3          1              0       8200000     30700000   \n",
              "4                    5          0              1       9800000     24200000   \n",
              "...                ...        ...            ...           ...          ...   \n",
              "4264                 5          1              1       1000000      2300000   \n",
              "4265                 0          0              1       3300000     11300000   \n",
              "4266                 2          0              0       6500000     23900000   \n",
              "4267                 1          0              0       4100000     12800000   \n",
              "4268                 1          1              0       9200000     29700000   \n",
              "\n",
              "      loan_term  cibil_score  loan_status    assets  \n",
              "0            12          778            1  50700000  \n",
              "1             8          417            0  17000000  \n",
              "2            20          506            0  57700000  \n",
              "3             8          467            0  52700000  \n",
              "4            20          382            0  55000000  \n",
              "...         ...          ...          ...       ...  \n",
              "4264         12          317            0   7400000  \n",
              "4265         20          559            1  20000000  \n",
              "4266         18          457            0  39000000  \n",
              "4267          8          780            1  28800000  \n",
              "4268         10          607            1  77300000  \n",
              "\n",
              "[4269 rows x 9 columns]"
            ]
          },
          "execution_count": 90,
          "metadata": {},
          "output_type": "execute_result"
        }
      ],
      "source": [
        "df"
      ]
    },
    {
      "cell_type": "code",
      "execution_count": 91,
      "metadata": {
        "id": "zpggnRhK8fwq"
      },
      "outputs": [],
      "source": [
        "from sklearn.model_selection import train_test_split"
      ]
    },
    {
      "cell_type": "code",
      "execution_count": 92,
      "metadata": {
        "id": "1iarqUUY8vHW"
      },
      "outputs": [],
      "source": [
        "input_data = df.drop(columns=['loan_status'])\n",
        "output_data= df['loan_status']"
      ]
    },
    {
      "cell_type": "code",
      "execution_count": 93,
      "metadata": {
        "colab": {
          "base_uri": "https://localhost:8080/",
          "height": 424
        },
        "id": "jIEVAPRT9OQu",
        "outputId": "a4b817d1-99f2-43cc-80b7-27a9df0e41cd"
      },
      "outputs": [
        {
          "data": {
            "text/html": [
              "<div>\n",
              "<style scoped>\n",
              "    .dataframe tbody tr th:only-of-type {\n",
              "        vertical-align: middle;\n",
              "    }\n",
              "\n",
              "    .dataframe tbody tr th {\n",
              "        vertical-align: top;\n",
              "    }\n",
              "\n",
              "    .dataframe thead th {\n",
              "        text-align: right;\n",
              "    }\n",
              "</style>\n",
              "<table border=\"1\" class=\"dataframe\">\n",
              "  <thead>\n",
              "    <tr style=\"text-align: right;\">\n",
              "      <th></th>\n",
              "      <th>no_of_dependents</th>\n",
              "      <th>education</th>\n",
              "      <th>self_employed</th>\n",
              "      <th>income_annum</th>\n",
              "      <th>loan_amount</th>\n",
              "      <th>loan_term</th>\n",
              "      <th>cibil_score</th>\n",
              "      <th>assets</th>\n",
              "    </tr>\n",
              "  </thead>\n",
              "  <tbody>\n",
              "    <tr>\n",
              "      <th>0</th>\n",
              "      <td>2</td>\n",
              "      <td>1</td>\n",
              "      <td>0</td>\n",
              "      <td>9600000</td>\n",
              "      <td>29900000</td>\n",
              "      <td>12</td>\n",
              "      <td>778</td>\n",
              "      <td>50700000</td>\n",
              "    </tr>\n",
              "    <tr>\n",
              "      <th>1</th>\n",
              "      <td>0</td>\n",
              "      <td>0</td>\n",
              "      <td>1</td>\n",
              "      <td>4100000</td>\n",
              "      <td>12200000</td>\n",
              "      <td>8</td>\n",
              "      <td>417</td>\n",
              "      <td>17000000</td>\n",
              "    </tr>\n",
              "    <tr>\n",
              "      <th>2</th>\n",
              "      <td>3</td>\n",
              "      <td>1</td>\n",
              "      <td>0</td>\n",
              "      <td>9100000</td>\n",
              "      <td>29700000</td>\n",
              "      <td>20</td>\n",
              "      <td>506</td>\n",
              "      <td>57700000</td>\n",
              "    </tr>\n",
              "    <tr>\n",
              "      <th>3</th>\n",
              "      <td>3</td>\n",
              "      <td>1</td>\n",
              "      <td>0</td>\n",
              "      <td>8200000</td>\n",
              "      <td>30700000</td>\n",
              "      <td>8</td>\n",
              "      <td>467</td>\n",
              "      <td>52700000</td>\n",
              "    </tr>\n",
              "    <tr>\n",
              "      <th>4</th>\n",
              "      <td>5</td>\n",
              "      <td>0</td>\n",
              "      <td>1</td>\n",
              "      <td>9800000</td>\n",
              "      <td>24200000</td>\n",
              "      <td>20</td>\n",
              "      <td>382</td>\n",
              "      <td>55000000</td>\n",
              "    </tr>\n",
              "    <tr>\n",
              "      <th>...</th>\n",
              "      <td>...</td>\n",
              "      <td>...</td>\n",
              "      <td>...</td>\n",
              "      <td>...</td>\n",
              "      <td>...</td>\n",
              "      <td>...</td>\n",
              "      <td>...</td>\n",
              "      <td>...</td>\n",
              "    </tr>\n",
              "    <tr>\n",
              "      <th>4264</th>\n",
              "      <td>5</td>\n",
              "      <td>1</td>\n",
              "      <td>1</td>\n",
              "      <td>1000000</td>\n",
              "      <td>2300000</td>\n",
              "      <td>12</td>\n",
              "      <td>317</td>\n",
              "      <td>7400000</td>\n",
              "    </tr>\n",
              "    <tr>\n",
              "      <th>4265</th>\n",
              "      <td>0</td>\n",
              "      <td>0</td>\n",
              "      <td>1</td>\n",
              "      <td>3300000</td>\n",
              "      <td>11300000</td>\n",
              "      <td>20</td>\n",
              "      <td>559</td>\n",
              "      <td>20000000</td>\n",
              "    </tr>\n",
              "    <tr>\n",
              "      <th>4266</th>\n",
              "      <td>2</td>\n",
              "      <td>0</td>\n",
              "      <td>0</td>\n",
              "      <td>6500000</td>\n",
              "      <td>23900000</td>\n",
              "      <td>18</td>\n",
              "      <td>457</td>\n",
              "      <td>39000000</td>\n",
              "    </tr>\n",
              "    <tr>\n",
              "      <th>4267</th>\n",
              "      <td>1</td>\n",
              "      <td>0</td>\n",
              "      <td>0</td>\n",
              "      <td>4100000</td>\n",
              "      <td>12800000</td>\n",
              "      <td>8</td>\n",
              "      <td>780</td>\n",
              "      <td>28800000</td>\n",
              "    </tr>\n",
              "    <tr>\n",
              "      <th>4268</th>\n",
              "      <td>1</td>\n",
              "      <td>1</td>\n",
              "      <td>0</td>\n",
              "      <td>9200000</td>\n",
              "      <td>29700000</td>\n",
              "      <td>10</td>\n",
              "      <td>607</td>\n",
              "      <td>77300000</td>\n",
              "    </tr>\n",
              "  </tbody>\n",
              "</table>\n",
              "<p>4269 rows × 8 columns</p>\n",
              "</div>"
            ],
            "text/plain": [
              "      no_of_dependents  education  self_employed  income_annum  loan_amount  \\\n",
              "0                    2          1              0       9600000     29900000   \n",
              "1                    0          0              1       4100000     12200000   \n",
              "2                    3          1              0       9100000     29700000   \n",
              "3                    3          1              0       8200000     30700000   \n",
              "4                    5          0              1       9800000     24200000   \n",
              "...                ...        ...            ...           ...          ...   \n",
              "4264                 5          1              1       1000000      2300000   \n",
              "4265                 0          0              1       3300000     11300000   \n",
              "4266                 2          0              0       6500000     23900000   \n",
              "4267                 1          0              0       4100000     12800000   \n",
              "4268                 1          1              0       9200000     29700000   \n",
              "\n",
              "      loan_term  cibil_score    assets  \n",
              "0            12          778  50700000  \n",
              "1             8          417  17000000  \n",
              "2            20          506  57700000  \n",
              "3             8          467  52700000  \n",
              "4            20          382  55000000  \n",
              "...         ...          ...       ...  \n",
              "4264         12          317   7400000  \n",
              "4265         20          559  20000000  \n",
              "4266         18          457  39000000  \n",
              "4267          8          780  28800000  \n",
              "4268         10          607  77300000  \n",
              "\n",
              "[4269 rows x 8 columns]"
            ]
          },
          "execution_count": 93,
          "metadata": {},
          "output_type": "execute_result"
        }
      ],
      "source": [
        "input_data"
      ]
    },
    {
      "cell_type": "code",
      "execution_count": 94,
      "metadata": {
        "colab": {
          "base_uri": "https://localhost:8080/"
        },
        "id": "7n1ntnyX9R69",
        "outputId": "5cb6a17a-1f8e-47eb-a22e-c94e91967053"
      },
      "outputs": [
        {
          "data": {
            "text/plain": [
              "0       1\n",
              "1       0\n",
              "2       0\n",
              "3       0\n",
              "4       0\n",
              "       ..\n",
              "4264    0\n",
              "4265    1\n",
              "4266    0\n",
              "4267    1\n",
              "4268    1\n",
              "Name: loan_status, Length: 4269, dtype: int64"
            ]
          },
          "execution_count": 94,
          "metadata": {},
          "output_type": "execute_result"
        }
      ],
      "source": [
        "output_data"
      ]
    },
    {
      "cell_type": "code",
      "execution_count": 95,
      "metadata": {
        "id": "KCWTjxEF9WH9"
      },
      "outputs": [],
      "source": [
        "x_train,x_test,y_train,y_test= train_test_split(input_data,output_data,test_size=0.2)"
      ]
    },
    {
      "cell_type": "code",
      "execution_count": 96,
      "metadata": {
        "colab": {
          "base_uri": "https://localhost:8080/"
        },
        "id": "ZRslYXG-95jG",
        "outputId": "1b0adde9-f474-49ce-f160-0e83caa533d2"
      },
      "outputs": [
        {
          "data": {
            "text/plain": [
              "((3415, 8), (854, 8), (3415,), (854,))"
            ]
          },
          "execution_count": 96,
          "metadata": {},
          "output_type": "execute_result"
        }
      ],
      "source": [
        "x_train.shape,x_test.shape,y_train.shape,y_test.shape"
      ]
    },
    {
      "cell_type": "code",
      "execution_count": 97,
      "metadata": {
        "id": "gf87uqst-Evm"
      },
      "outputs": [],
      "source": [
        "from sklearn.preprocessing import StandardScaler"
      ]
    },
    {
      "cell_type": "code",
      "execution_count": 98,
      "metadata": {
        "id": "wMJUv4tW-cre"
      },
      "outputs": [],
      "source": [
        "scaler= StandardScaler()"
      ]
    },
    {
      "cell_type": "code",
      "execution_count": 99,
      "metadata": {
        "id": "TFPEIMXL-1Kw"
      },
      "outputs": [],
      "source": [
        "x_train_scaled = scaler.fit_transform(x_train)"
      ]
    },
    {
      "cell_type": "code",
      "execution_count": 100,
      "metadata": {
        "id": "99Hhc5ke-den"
      },
      "outputs": [],
      "source": [
        "x_test_scaled = scaler.transform(x_test)"
      ]
    },
    {
      "cell_type": "markdown",
      "metadata": {
        "id": "kAgP5QI-FarP"
      },
      "source": [
        "**Using LogisticRegression**"
      ]
    },
    {
      "cell_type": "code",
      "execution_count": 101,
      "metadata": {
        "colab": {
          "base_uri": "https://localhost:8080/"
        },
        "id": "g5n5NH2_ITCB",
        "outputId": "67568248-5a13-491a-f114-c0ca50368848"
      },
      "outputs": [
        {
          "name": "stdout",
          "output_type": "stream",
          "text": [
            "Accuracy Score (Logistic Regression): 0.9110070257611241\n"
          ]
        }
      ],
      "source": [
        "from sklearn.linear_model import LogisticRegression\n",
        "from sklearn.metrics import accuracy_score\n",
        "\n",
        "# Initialize the logistic regression model\n",
        "model_lr = LogisticRegression()\n",
        "\n",
        "# Fit the model to the scaled training data\n",
        "model_lr.fit(x_train_scaled, y_train)\n",
        "\n",
        "# Use the trained model to make predictions on the scaled test data\n",
        "y_pred_lr = model_lr.predict(x_test_scaled)\n",
        "\n",
        "# Compute the accuracy score\n",
        "accuracy_lr = accuracy_score(y_test, y_pred_lr)\n",
        "\n",
        "# Print the accuracy score\n",
        "print(\"Accuracy Score (Logistic Regression):\", accuracy_lr)\n"
      ]
    },
    {
      "cell_type": "markdown",
      "metadata": {
        "id": "3YPa7CxQF1O9"
      },
      "source": [
        "**Using KNeighborsClassifier**"
      ]
    },
    {
      "cell_type": "code",
      "execution_count": 102,
      "metadata": {
        "colab": {
          "base_uri": "https://localhost:8080/"
        },
        "id": "xdgAagIEC81f",
        "outputId": "687f829f-7bd3-4e50-955d-a0be3ab7afce"
      },
      "outputs": [
        {
          "name": "stdout",
          "output_type": "stream",
          "text": [
            "Accuracy Score: 0.9004683840749415\n"
          ]
        }
      ],
      "source": [
        "from sklearn.neighbors import KNeighborsClassifier\n",
        "\n",
        "# Initialize the KNeighborsClassifier model with desired parameters\n",
        "model_KNN = KNeighborsClassifier(n_neighbors=3)\n",
        "\n",
        "# Fit the model to the scaled training data\n",
        "model_KNN.fit(x_train_scaled, y_train)\n",
        "\n",
        "# Use the trained model to make predictions on the scaled test data\n",
        "y_pred_KNN = model_KNN.predict(x_test_scaled)\n",
        "\n",
        "# Compute the accuracy score\n",
        "accuracy_KNN = accuracy_score(y_test, y_pred_KNN)\n",
        "\n",
        "# Print the accuracy score\n",
        "print(\"Accuracy Score:\", accuracy_KNN)\n"
      ]
    },
    {
      "cell_type": "markdown",
      "metadata": {
        "id": "a-NQKLzEF7gu"
      },
      "source": [
        "**Using SupportVectorClassifier**"
      ]
    },
    {
      "cell_type": "code",
      "execution_count": 103,
      "metadata": {
        "colab": {
          "base_uri": "https://localhost:8080/"
        },
        "id": "KWXtsxnADq5_",
        "outputId": "d983ed43-38c6-4eb3-ea1f-a3858168c70f"
      },
      "outputs": [
        {
          "name": "stdout",
          "output_type": "stream",
          "text": [
            "Accuracy Score (SVC): 0.9297423887587822\n"
          ]
        }
      ],
      "source": [
        "from sklearn.svm import SVC\n",
        "\n",
        "# Initialize the SVC model with desired parameters\n",
        "model_svc = SVC()\n",
        "\n",
        "# Fit the model to the scaled training data\n",
        "model_svc.fit(x_train_scaled, y_train)\n",
        "\n",
        "# Use the trained model to make predictions on the scaled test data\n",
        "y_pred_svc = model_svc.predict(x_test_scaled)\n",
        "\n",
        "# Compute the accuracy score\n",
        "accuracy_svc = accuracy_score(y_test, y_pred_svc)\n",
        "\n",
        "# Print the accuracy score\n",
        "print(\"Accuracy Score (SVC):\", accuracy_svc)\n"
      ]
    },
    {
      "cell_type": "markdown",
      "metadata": {
        "id": "_4VwAbWDGEHd"
      },
      "source": [
        "**Using DecisionTree**"
      ]
    },
    {
      "cell_type": "code",
      "execution_count": 104,
      "metadata": {
        "colab": {
          "base_uri": "https://localhost:8080/"
        },
        "id": "Xh6zZQ1OECQg",
        "outputId": "c1cbf118-1dcd-4570-e1db-8d32ae2d5091"
      },
      "outputs": [
        {
          "name": "stdout",
          "output_type": "stream",
          "text": [
            "Accuracy Score (Decision Tree): 0.9847775175644028\n"
          ]
        }
      ],
      "source": [
        "from sklearn.tree import DecisionTreeClassifier\n",
        "# Initialize the Decision Tree classifier model with desired parameters\n",
        "model_dt = DecisionTreeClassifier()\n",
        "\n",
        "# Fit the model to the scaled training data\n",
        "model_dt.fit(x_train_scaled, y_train)\n",
        "\n",
        "# Use the trained model to make predictions on the scaled test data\n",
        "y_pred_dt = model_dt.predict(x_test_scaled)\n",
        "\n",
        "# Compute the accuracy score\n",
        "accuracy_dt = accuracy_score(y_test, y_pred_dt)\n",
        "\n",
        "# Print the accuracy score\n",
        "print(\"Accuracy Score (Decision Tree):\", accuracy_dt)\n"
      ]
    },
    {
      "cell_type": "markdown",
      "metadata": {
        "id": "DkW1hDw5GJUG"
      },
      "source": [
        "**Using GaussianNB**"
      ]
    },
    {
      "cell_type": "code",
      "execution_count": 105,
      "metadata": {
        "colab": {
          "base_uri": "https://localhost:8080/"
        },
        "id": "TSY3O_DvE4BA",
        "outputId": "c1981754-c523-444f-e2bd-f1f86167d7b0"
      },
      "outputs": [
        {
          "name": "stdout",
          "output_type": "stream",
          "text": [
            "Accuracy Score (Gaussian Naive Bayes): 0.9192037470725996\n"
          ]
        }
      ],
      "source": [
        "from sklearn.naive_bayes import GaussianNB\n",
        "# Initialize the Gaussian Naive Bayes model\n",
        "model_nb = GaussianNB()\n",
        "\n",
        "# Fit the model to the training data\n",
        "model_nb.fit(x_train_scaled, y_train)\n",
        "\n",
        "# Use the trained model to make predictions on the scaled test data\n",
        "y_pred_nb = model_nb.predict(x_test_scaled)\n",
        "\n",
        "# Compute the accuracy score\n",
        "accuracy_nb = accuracy_score(y_test, y_pred_nb)\n",
        "\n",
        "# Print the accuracy score\n",
        "print(\"Accuracy Score (Gaussian Naive Bayes):\", accuracy_nb)\n"
      ]
    },
    {
      "cell_type": "markdown",
      "metadata": {
        "id": "5b0oK24aGOy2"
      },
      "source": [
        "**Using RandomForest**"
      ]
    },
    {
      "cell_type": "code",
      "execution_count": 106,
      "metadata": {
        "colab": {
          "base_uri": "https://localhost:8080/"
        },
        "id": "afS-MqNNFBVo",
        "outputId": "cdafc0c6-c6c8-4243-edf3-c99e58046258"
      },
      "outputs": [
        {
          "name": "stdout",
          "output_type": "stream",
          "text": [
            "Accuracy Score (Random Forest): 0.9789227166276346\n"
          ]
        }
      ],
      "source": [
        "from sklearn.ensemble import RandomForestClassifier\n",
        "from sklearn.metrics import accuracy_score\n",
        "\n",
        "# Initialize the Random Forest classifier model with desired parameters\n",
        "model_rf = RandomForestClassifier()\n",
        "\n",
        "# Fit the model to the scaled training data\n",
        "model_rf.fit(x_train_scaled, y_train)\n",
        "\n",
        "# Use the trained model to make predictions on the scaled test data\n",
        "y_pred_rf = model_rf.predict(x_test_scaled)\n",
        "\n",
        "# Compute the accuracy score\n",
        "accuracy_rf = accuracy_score(y_test, y_pred_rf)\n",
        "\n",
        "# Print the accuracy score\n",
        "print(\"Accuracy Score (Random Forest):\", accuracy_rf)\n"
      ]
    },
    {
      "cell_type": "markdown",
      "metadata": {
        "id": "RJNbjm3PGW7t"
      },
      "source": [
        "**Using XgBoost**"
      ]
    },
    {
      "cell_type": "code",
      "execution_count": 107,
      "metadata": {
        "colab": {
          "base_uri": "https://localhost:8080/"
        },
        "id": "pZovCEgQFPFq",
        "outputId": "d92b1845-f6ab-46e0-c9af-8044de81f065"
      },
      "outputs": [
        {
          "name": "stdout",
          "output_type": "stream",
          "text": [
            "Accuracy Score (XGBoost): 0.9847775175644028\n"
          ]
        }
      ],
      "source": [
        "import xgboost as xgb\n",
        "\n",
        "# Initialize the XGBoost classifier model with desired parameters\n",
        "model_xgb = xgb.XGBClassifier()\n",
        "\n",
        "# Fit the model to the scaled training data\n",
        "model_xgb.fit(x_train_scaled, y_train)\n",
        "\n",
        "# Use the trained model to make predictions on the scaled test data\n",
        "y_pred_xgb = model_xgb.predict(x_test_scaled)\n",
        "\n",
        "# Compute the accuracy score\n",
        "accuracy_xgb = accuracy_score(y_test, y_pred_xgb)\n",
        "\n",
        "# Print the accuracy score\n",
        "print(\"Accuracy Score (XGBoost):\", accuracy_xgb)\n"
      ]
    },
    {
      "cell_type": "code",
      "execution_count": 108,
      "metadata": {
        "colab": {
          "base_uri": "https://localhost:8080/"
        },
        "id": "CAN6TckBHxFf",
        "outputId": "cd588b5b-c523-4573-8f3b-fe928e49b8ba"
      },
      "outputs": [
        {
          "name": "stdout",
          "output_type": "stream",
          "text": [
            "Logistic Regression: 0.9110070257611241\n",
            "Gaussian Naive Bayes: 0.9192037470725996\n",
            "Random Forest: 0.9789227166276346\n",
            "Decision Tree: 0.9847775175644028\n",
            "XGBoost: 0.9847775175644028\n"
          ]
        }
      ],
      "source": [
        "# Create a dictionary to store the accuracy scores\n",
        "accuracy_scores = {\n",
        "    \"Logistic Regression\": accuracy_lr,\n",
        "    \"Decision Tree\": accuracy_dt,\n",
        "    \"Random Forest\": accuracy_rf,\n",
        "    \"XGBoost\": accuracy_xgb,\n",
        "    \"Gaussian Naive Bayes\": accuracy_nb\n",
        "}\n",
        "\n",
        "# Sort the accuracy scores in ascending order\n",
        "sorted_accuracy = sorted(accuracy_scores.items(), key=lambda x: x[1])\n",
        "\n",
        "# Print the accuracy scores in ascending order\n",
        "for model, accuracy in sorted_accuracy:\n",
        "    print(f\"{model}: {accuracy}\")\n"
      ]
    },
    {
      "cell_type": "code",
      "execution_count": 109,
      "metadata": {
        "colab": {
          "base_uri": "https://localhost:8080/"
        },
        "id": "Tw2SRisRIxu2",
        "outputId": "3d99fa45-d192-45f0-e632-a93b81f9c775"
      },
      "outputs": [
        {
          "name": "stdout",
          "output_type": "stream",
          "text": [
            "KNN: 0.9004683840749415\n",
            "Logistic Regression: 0.9110070257611241\n",
            "Gaussian Naive Bayes: 0.9192037470725996\n",
            "SVC: 0.9297423887587822\n",
            "Random Forest: 0.9789227166276346\n",
            "Decision Tree: 0.9847775175644028\n",
            "XGBoost: 0.9847775175644028\n"
          ]
        }
      ],
      "source": [
        "# Create a dictionary to store the accuracy scores\n",
        "accuracy_scores = {\n",
        "    \"Logistic Regression\": accuracy_lr,\n",
        "    \"Decision Tree\": accuracy_dt,\n",
        "    \"Random Forest\": accuracy_rf,\n",
        "    \"XGBoost\": accuracy_xgb,\n",
        "    \"Gaussian Naive Bayes\": accuracy_nb,\n",
        "    \"SVC\": accuracy_svc,\n",
        "    \"KNN\": accuracy_KNN\n",
        "}\n",
        "\n",
        "# Sort the accuracy scores in ascending order\n",
        "sorted_accuracy = sorted(accuracy_scores.items(), key=lambda x: x[1])\n",
        "\n",
        "# Print the accuracy scores in ascending order\n",
        "for model, accuracy in sorted_accuracy:\n",
        "    print(f\"{model}: {accuracy}\")\n"
      ]
    },
    {
      "cell_type": "markdown",
      "metadata": {
        "id": "CuLObkR3JvMx"
      },
      "source": [
        "**Therefore Decision Tress Clasifier Preforms Well**"
      ]
    },
    {
      "cell_type": "code",
      "execution_count": 110,
      "metadata": {
        "colab": {
          "base_uri": "https://localhost:8080/"
        },
        "id": "Ynx8XhRsL1YP",
        "outputId": "13eb4f41-0514-4edf-cfe6-6a7e445ad449"
      },
      "outputs": [
        {
          "name": "stdout",
          "output_type": "stream",
          "text": [
            "Predicted Loan Status: [1]\n"
          ]
        },
        {
          "name": "stderr",
          "output_type": "stream",
          "text": [
            "/Users/tharunkumarl/Data science/Loan Approval Prediction/.venv/lib/python3.12/site-packages/sklearn/base.py:486: UserWarning: X has feature names, but DecisionTreeClassifier was fitted without feature names\n",
            "  warnings.warn(\n"
          ]
        }
      ],
      "source": [
        "# Define pred_data as a DataFrame containing the data for prediction\n",
        "pred_data = pd.DataFrame([['2','1','0','9600000','29900000','12','778','50700000']],\n",
        "                         columns=['no_of_dependents','education','self_employed','income_annum',\n",
        "                                  'loan_amount','loan_term','cibil_score','Assets'])\n",
        "\n",
        "# Assuming pred_data has the same preprocessing applied as x_train_scaled\n",
        "# Make predictions using the trained Decision Tree model\n",
        "predictions = model_dt.predict(pred_data)\n",
        "\n",
        "# Print the predictions\n",
        "print(\"Predicted Loan Status:\", predictions)\n"
      ]
    },
    {
      "cell_type": "code",
      "execution_count": 111,
      "metadata": {
        "id": "GdDsZlyzLy2_"
      },
      "outputs": [],
      "source": [
        "import pickle as pk\n",
        "\n",
        "# Save the trained Decision Tree classifier\n",
        "pk.dump(model_dt, open('decision_tree_model.pkl', 'wb'))\n",
        "\n",
        "# Save the scaler\n",
        "pk.dump(scaler, open('scaler.pkl', 'wb'))"
      ]
    }
  ],
  "metadata": {
    "colab": {
      "provenance": []
    },
    "kernelspec": {
      "display_name": "Python 3",
      "name": "python3"
    },
    "language_info": {
      "codemirror_mode": {
        "name": "ipython",
        "version": 3
      },
      "file_extension": ".py",
      "mimetype": "text/x-python",
      "name": "python",
      "nbconvert_exporter": "python",
      "pygments_lexer": "ipython3",
      "version": "3.12.1"
    }
  },
  "nbformat": 4,
  "nbformat_minor": 0
}
